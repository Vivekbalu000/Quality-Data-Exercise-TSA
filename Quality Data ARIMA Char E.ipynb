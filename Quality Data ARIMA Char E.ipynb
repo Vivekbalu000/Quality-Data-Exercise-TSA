{
 "cells": [
  {
   "cell_type": "code",
   "execution_count": 1,
   "id": "58daf75a",
   "metadata": {},
   "outputs": [],
   "source": [
    "import pandas as pd\n",
    "import datetime as dt\n"
   ]
  },
  {
   "cell_type": "code",
   "execution_count": 2,
   "id": "3c164e47",
   "metadata": {},
   "outputs": [],
   "source": [
    "#https://machinelearningmastery.com/time-series-forecasting-methods-in-python-cheat-sheet/"
   ]
  },
  {
   "cell_type": "code",
   "execution_count": 3,
   "id": "d46d5e10",
   "metadata": {},
   "outputs": [],
   "source": [
    "dataset=pd.read_csv(\"Quality data Preprocessed data.csv\")"
   ]
  },
  {
   "cell_type": "code",
   "execution_count": 4,
   "id": "2f08622e",
   "metadata": {},
   "outputs": [
    {
     "data": {
      "text/html": [
       "<div>\n",
       "<style scoped>\n",
       "    .dataframe tbody tr th:only-of-type {\n",
       "        vertical-align: middle;\n",
       "    }\n",
       "\n",
       "    .dataframe tbody tr th {\n",
       "        vertical-align: top;\n",
       "    }\n",
       "\n",
       "    .dataframe thead th {\n",
       "        text-align: right;\n",
       "    }\n",
       "</style>\n",
       "<table border=\"1\" class=\"dataframe\">\n",
       "  <thead>\n",
       "    <tr style=\"text-align: right;\">\n",
       "      <th></th>\n",
       "      <th>Product</th>\n",
       "      <th>Time</th>\n",
       "      <th>Equipment</th>\n",
       "      <th>Char A</th>\n",
       "      <th>Char B</th>\n",
       "      <th>Char C</th>\n",
       "      <th>Char D</th>\n",
       "      <th>Char E</th>\n",
       "      <th>Char A6</th>\n",
       "      <th>Char A7</th>\n",
       "      <th>Char A8</th>\n",
       "      <th>Char A9</th>\n",
       "      <th>Char A10</th>\n",
       "      <th>Class</th>\n",
       "    </tr>\n",
       "  </thead>\n",
       "  <tbody>\n",
       "    <tr>\n",
       "      <th>0</th>\n",
       "      <td>Product-1</td>\n",
       "      <td>2022-09-05</td>\n",
       "      <td>B1</td>\n",
       "      <td>82</td>\n",
       "      <td>17</td>\n",
       "      <td>12</td>\n",
       "      <td>126</td>\n",
       "      <td>119</td>\n",
       "      <td>B</td>\n",
       "      <td>C</td>\n",
       "      <td>A</td>\n",
       "      <td>H</td>\n",
       "      <td>H</td>\n",
       "      <td>H</td>\n",
       "    </tr>\n",
       "    <tr>\n",
       "      <th>1</th>\n",
       "      <td>Product-2</td>\n",
       "      <td>2022-09-05</td>\n",
       "      <td>B1</td>\n",
       "      <td>96</td>\n",
       "      <td>13</td>\n",
       "      <td>13</td>\n",
       "      <td>72</td>\n",
       "      <td>42</td>\n",
       "      <td>B</td>\n",
       "      <td>B</td>\n",
       "      <td>A</td>\n",
       "      <td>B</td>\n",
       "      <td>B</td>\n",
       "      <td>B</td>\n",
       "    </tr>\n",
       "    <tr>\n",
       "      <th>2</th>\n",
       "      <td>Product-3</td>\n",
       "      <td>2022-09-05</td>\n",
       "      <td>B1</td>\n",
       "      <td>60</td>\n",
       "      <td>12</td>\n",
       "      <td>13</td>\n",
       "      <td>56</td>\n",
       "      <td>33</td>\n",
       "      <td>B</td>\n",
       "      <td>B</td>\n",
       "      <td>A</td>\n",
       "      <td>B</td>\n",
       "      <td>B</td>\n",
       "      <td>B</td>\n",
       "    </tr>\n",
       "    <tr>\n",
       "      <th>3</th>\n",
       "      <td>Product-4</td>\n",
       "      <td>2022-09-05</td>\n",
       "      <td>B1</td>\n",
       "      <td>53</td>\n",
       "      <td>12</td>\n",
       "      <td>11</td>\n",
       "      <td>45</td>\n",
       "      <td>21</td>\n",
       "      <td>B</td>\n",
       "      <td>B</td>\n",
       "      <td>A</td>\n",
       "      <td>B</td>\n",
       "      <td>A</td>\n",
       "      <td>B</td>\n",
       "    </tr>\n",
       "    <tr>\n",
       "      <th>4</th>\n",
       "      <td>Product-5</td>\n",
       "      <td>2022-09-05</td>\n",
       "      <td>B1</td>\n",
       "      <td>56</td>\n",
       "      <td>12</td>\n",
       "      <td>17</td>\n",
       "      <td>49</td>\n",
       "      <td>26</td>\n",
       "      <td>B</td>\n",
       "      <td>B</td>\n",
       "      <td>B</td>\n",
       "      <td>B</td>\n",
       "      <td>A</td>\n",
       "      <td>B</td>\n",
       "    </tr>\n",
       "    <tr>\n",
       "      <th>...</th>\n",
       "      <td>...</td>\n",
       "      <td>...</td>\n",
       "      <td>...</td>\n",
       "      <td>...</td>\n",
       "      <td>...</td>\n",
       "      <td>...</td>\n",
       "      <td>...</td>\n",
       "      <td>...</td>\n",
       "      <td>...</td>\n",
       "      <td>...</td>\n",
       "      <td>...</td>\n",
       "      <td>...</td>\n",
       "      <td>...</td>\n",
       "      <td>...</td>\n",
       "    </tr>\n",
       "    <tr>\n",
       "      <th>5639</th>\n",
       "      <td>Product-5640</td>\n",
       "      <td>2023-04-20</td>\n",
       "      <td>B1</td>\n",
       "      <td>84</td>\n",
       "      <td>3</td>\n",
       "      <td>14</td>\n",
       "      <td>63</td>\n",
       "      <td>61</td>\n",
       "      <td>B</td>\n",
       "      <td>A</td>\n",
       "      <td>B</td>\n",
       "      <td>B</td>\n",
       "      <td>C</td>\n",
       "      <td>C</td>\n",
       "    </tr>\n",
       "    <tr>\n",
       "      <th>5640</th>\n",
       "      <td>Product-5641</td>\n",
       "      <td>2023-04-20</td>\n",
       "      <td>B4</td>\n",
       "      <td>52</td>\n",
       "      <td>2</td>\n",
       "      <td>12</td>\n",
       "      <td>42</td>\n",
       "      <td>20</td>\n",
       "      <td>B</td>\n",
       "      <td>A</td>\n",
       "      <td>A</td>\n",
       "      <td>B</td>\n",
       "      <td>A</td>\n",
       "      <td>B</td>\n",
       "    </tr>\n",
       "    <tr>\n",
       "      <th>5641</th>\n",
       "      <td>Product-5642</td>\n",
       "      <td>2023-04-20</td>\n",
       "      <td>B4</td>\n",
       "      <td>56</td>\n",
       "      <td>2</td>\n",
       "      <td>9</td>\n",
       "      <td>66</td>\n",
       "      <td>39</td>\n",
       "      <td>B</td>\n",
       "      <td>A</td>\n",
       "      <td>A</td>\n",
       "      <td>B</td>\n",
       "      <td>B</td>\n",
       "      <td>B</td>\n",
       "    </tr>\n",
       "    <tr>\n",
       "      <th>5642</th>\n",
       "      <td>Product-5643</td>\n",
       "      <td>2023-04-20</td>\n",
       "      <td>B1</td>\n",
       "      <td>51</td>\n",
       "      <td>3</td>\n",
       "      <td>13</td>\n",
       "      <td>67</td>\n",
       "      <td>43</td>\n",
       "      <td>B</td>\n",
       "      <td>A</td>\n",
       "      <td>A</td>\n",
       "      <td>B</td>\n",
       "      <td>B</td>\n",
       "      <td>B</td>\n",
       "    </tr>\n",
       "    <tr>\n",
       "      <th>5643</th>\n",
       "      <td>Product-5644</td>\n",
       "      <td>2023-04-20</td>\n",
       "      <td>B1</td>\n",
       "      <td>26</td>\n",
       "      <td>1</td>\n",
       "      <td>9</td>\n",
       "      <td>51</td>\n",
       "      <td>18</td>\n",
       "      <td>A</td>\n",
       "      <td>A</td>\n",
       "      <td>A</td>\n",
       "      <td>B</td>\n",
       "      <td>A</td>\n",
       "      <td>B</td>\n",
       "    </tr>\n",
       "  </tbody>\n",
       "</table>\n",
       "<p>5644 rows × 14 columns</p>\n",
       "</div>"
      ],
      "text/plain": [
       "           Product        Time Equipment  Char A  Char B  Char C  Char D   \n",
       "0        Product-1  2022-09-05        B1      82      17      12     126  \\\n",
       "1        Product-2  2022-09-05        B1      96      13      13      72   \n",
       "2        Product-3  2022-09-05        B1      60      12      13      56   \n",
       "3        Product-4  2022-09-05        B1      53      12      11      45   \n",
       "4        Product-5  2022-09-05        B1      56      12      17      49   \n",
       "...            ...         ...       ...     ...     ...     ...     ...   \n",
       "5639  Product-5640  2023-04-20        B1      84       3      14      63   \n",
       "5640  Product-5641  2023-04-20        B4      52       2      12      42   \n",
       "5641  Product-5642  2023-04-20        B4      56       2       9      66   \n",
       "5642  Product-5643  2023-04-20        B1      51       3      13      67   \n",
       "5643  Product-5644  2023-04-20        B1      26       1       9      51   \n",
       "\n",
       "      Char E Char A6 Char A7 Char A8 Char A9 Char A10 Class  \n",
       "0        119       B       C       A       H        H     H  \n",
       "1         42       B       B       A       B        B     B  \n",
       "2         33       B       B       A       B        B     B  \n",
       "3         21       B       B       A       B        A     B  \n",
       "4         26       B       B       B       B        A     B  \n",
       "...      ...     ...     ...     ...     ...      ...   ...  \n",
       "5639      61       B       A       B       B        C     C  \n",
       "5640      20       B       A       A       B        A     B  \n",
       "5641      39       B       A       A       B        B     B  \n",
       "5642      43       B       A       A       B        B     B  \n",
       "5643      18       A       A       A       B        A     B  \n",
       "\n",
       "[5644 rows x 14 columns]"
      ]
     },
     "execution_count": 4,
     "metadata": {},
     "output_type": "execute_result"
    }
   ],
   "source": [
    "dataset"
   ]
  },
  {
   "cell_type": "code",
   "execution_count": 5,
   "id": "facd838e",
   "metadata": {},
   "outputs": [
    {
     "data": {
      "text/plain": [
       "Index(['Product', 'Time', 'Equipment', 'Char A', 'Char B', 'Char C', 'Char D',\n",
       "       'Char E', 'Char A6', 'Char A7', 'Char A8', 'Char A9', 'Char A10',\n",
       "       'Class'],\n",
       "      dtype='object')"
      ]
     },
     "execution_count": 5,
     "metadata": {},
     "output_type": "execute_result"
    }
   ],
   "source": [
    "dataset.columns"
   ]
  },
  {
   "cell_type": "code",
   "execution_count": 6,
   "id": "523a1263",
   "metadata": {},
   "outputs": [],
   "source": [
    "#dataset=dataset[['Char A', 'Char B', 'Char C', 'Char D','Char E']]"
   ]
  },
  {
   "cell_type": "code",
   "execution_count": 7,
   "id": "491401ff",
   "metadata": {},
   "outputs": [],
   "source": [
    "#dataset"
   ]
  },
  {
   "cell_type": "code",
   "execution_count": 8,
   "id": "93d97989",
   "metadata": {},
   "outputs": [],
   "source": [
    "startdate=\"2015-09-05\"\n",
    "enddate=\"2023-04-20\"\n",
    "df=dataset[dataset['Time'].between(startdate,enddate)][['Time', 'Char E']]"
   ]
  },
  {
   "cell_type": "code",
   "execution_count": 9,
   "id": "440f462d",
   "metadata": {},
   "outputs": [
    {
     "data": {
      "text/html": [
       "<div>\n",
       "<style scoped>\n",
       "    .dataframe tbody tr th:only-of-type {\n",
       "        vertical-align: middle;\n",
       "    }\n",
       "\n",
       "    .dataframe tbody tr th {\n",
       "        vertical-align: top;\n",
       "    }\n",
       "\n",
       "    .dataframe thead th {\n",
       "        text-align: right;\n",
       "    }\n",
       "</style>\n",
       "<table border=\"1\" class=\"dataframe\">\n",
       "  <thead>\n",
       "    <tr style=\"text-align: right;\">\n",
       "      <th></th>\n",
       "      <th>Time</th>\n",
       "      <th>Char E</th>\n",
       "    </tr>\n",
       "  </thead>\n",
       "  <tbody>\n",
       "    <tr>\n",
       "      <th>0</th>\n",
       "      <td>2022-09-05</td>\n",
       "      <td>119</td>\n",
       "    </tr>\n",
       "    <tr>\n",
       "      <th>1</th>\n",
       "      <td>2022-09-05</td>\n",
       "      <td>42</td>\n",
       "    </tr>\n",
       "    <tr>\n",
       "      <th>2</th>\n",
       "      <td>2022-09-05</td>\n",
       "      <td>33</td>\n",
       "    </tr>\n",
       "    <tr>\n",
       "      <th>3</th>\n",
       "      <td>2022-09-05</td>\n",
       "      <td>21</td>\n",
       "    </tr>\n",
       "    <tr>\n",
       "      <th>4</th>\n",
       "      <td>2022-09-05</td>\n",
       "      <td>26</td>\n",
       "    </tr>\n",
       "    <tr>\n",
       "      <th>...</th>\n",
       "      <td>...</td>\n",
       "      <td>...</td>\n",
       "    </tr>\n",
       "    <tr>\n",
       "      <th>5639</th>\n",
       "      <td>2023-04-20</td>\n",
       "      <td>61</td>\n",
       "    </tr>\n",
       "    <tr>\n",
       "      <th>5640</th>\n",
       "      <td>2023-04-20</td>\n",
       "      <td>20</td>\n",
       "    </tr>\n",
       "    <tr>\n",
       "      <th>5641</th>\n",
       "      <td>2023-04-20</td>\n",
       "      <td>39</td>\n",
       "    </tr>\n",
       "    <tr>\n",
       "      <th>5642</th>\n",
       "      <td>2023-04-20</td>\n",
       "      <td>43</td>\n",
       "    </tr>\n",
       "    <tr>\n",
       "      <th>5643</th>\n",
       "      <td>2023-04-20</td>\n",
       "      <td>18</td>\n",
       "    </tr>\n",
       "  </tbody>\n",
       "</table>\n",
       "<p>5644 rows × 2 columns</p>\n",
       "</div>"
      ],
      "text/plain": [
       "            Time  Char E\n",
       "0     2022-09-05     119\n",
       "1     2022-09-05      42\n",
       "2     2022-09-05      33\n",
       "3     2022-09-05      21\n",
       "4     2022-09-05      26\n",
       "...          ...     ...\n",
       "5639  2023-04-20      61\n",
       "5640  2023-04-20      20\n",
       "5641  2023-04-20      39\n",
       "5642  2023-04-20      43\n",
       "5643  2023-04-20      18\n",
       "\n",
       "[5644 rows x 2 columns]"
      ]
     },
     "execution_count": 9,
     "metadata": {},
     "output_type": "execute_result"
    }
   ],
   "source": [
    "df"
   ]
  },
  {
   "cell_type": "code",
   "execution_count": 10,
   "id": "18db8d8b",
   "metadata": {},
   "outputs": [],
   "source": [
    "column='Char E'"
   ]
  },
  {
   "cell_type": "code",
   "execution_count": 11,
   "id": "306b198f",
   "metadata": {},
   "outputs": [
    {
     "name": "stdout",
     "output_type": "stream",
     "text": [
      "Len: (5644, 1)\n"
     ]
    }
   ],
   "source": [
    "from sklearn.preprocessing import MinMaxScaler\n",
    "Ms = MinMaxScaler()\n",
    "data1= Ms.fit_transform(df[[column]])\n",
    "print(\"Len:\",data1.shape)"
   ]
  },
  {
   "cell_type": "code",
   "execution_count": 12,
   "id": "6a866541",
   "metadata": {},
   "outputs": [
    {
     "data": {
      "text/plain": [
       "5644"
      ]
     },
     "execution_count": 12,
     "metadata": {},
     "output_type": "execute_result"
    }
   ],
   "source": [
    "len(data1)"
   ]
  },
  {
   "cell_type": "code",
   "execution_count": 13,
   "id": "174eb950",
   "metadata": {},
   "outputs": [
    {
     "name": "stdout",
     "output_type": "stream",
     "text": [
      "4515\n",
      "X_train length: (4515, 1)\n",
      "X_test length: (1129, 1)\n",
      "y_train length: (4515, 1)\n",
      "y_test length: (1129, 1)\n"
     ]
    }
   ],
   "source": [
    "training_size=round(len(data1)*0.80)\n",
    "print(training_size)\n",
    "X_train=data1[:training_size]\n",
    "X_test=data1[training_size:]\n",
    "print(\"X_train length:\",X_train.shape)\n",
    "print(\"X_test length:\",X_test.shape)\n",
    "y_train=data1[:training_size]\n",
    "y_test=data1[training_size:]\n",
    "print(\"y_train length:\",y_train.shape)\n",
    "print(\"y_test length:\",y_test.shape)"
   ]
  },
  {
   "cell_type": "code",
   "execution_count": 14,
   "id": "a9ed1a1e",
   "metadata": {},
   "outputs": [
    {
     "data": {
      "text/plain": [
       "\"from statsmodels.tsa.arima.model import ARIMA\\nmodel = ARIMA(data1, order=(1,1,1))#Autoregressive Integrated Moving Average (ARIMA)\\nmodel_fit = model.fit()\\n# make prediction\\ny_pred= model_fit.predict(len(df), len(df)-1)\\nprint(y_pred)\\nfrom stockFunctions import rmsemape\\nrmsemape(stkk,predicted_stock_price_test_oriP['Char E'])\""
      ]
     },
     "execution_count": 14,
     "metadata": {},
     "output_type": "execute_result"
    }
   ],
   "source": [
    "\"\"\"from statsmodels.tsa.arima.model import ARIMA\n",
    "model = ARIMA(data1, order=(1,1,1))#Autoregressive Integrated Moving Average (ARIMA)\n",
    "model_fit = model.fit()\n",
    "# make prediction\n",
    "y_pred= model_fit.predict(len(df), len(df)-1)\n",
    "print(y_pred)\n",
    "from stockFunctions import rmsemape\n",
    "rmsemape(stkk,predicted_stock_price_test_oriP['Char E'])\"\"\""
   ]
  },
  {
   "cell_type": "code",
   "execution_count": 15,
   "id": "b062641c",
   "metadata": {},
   "outputs": [
    {
     "name": "stdout",
     "output_type": "stream",
     "text": [
      "RMSE-Testset: 0.1447659433796477\n",
      "maPe-Testset: 479174703458.65027\n",
      "RMSE-Testset: 0.14496312734392763\n",
      "maPe-Testset: 462425820300.1943\n",
      "RMSE-Testset: 0.22225823619436794\n",
      "maPe-Testset: 668780763071.8281\n"
     ]
    },
    {
     "name": "stderr",
     "output_type": "stream",
     "text": [
      "C:\\Users\\Hi\\anaconda3\\envs\\aiads\\Lib\\site-packages\\statsmodels\\tsa\\statespace\\sarimax.py:978: UserWarning: Non-invertible starting MA parameters found. Using zeros as starting parameters.\n",
      "  warn('Non-invertible starting MA parameters found.'\n"
     ]
    },
    {
     "name": "stdout",
     "output_type": "stream",
     "text": [
      "RMSE-Testset: 0.14575653594878776\n",
      "maPe-Testset: 473718347888.99414\n"
     ]
    }
   ],
   "source": [
    "orders=[(1,1,1),(1,1,2),(2,3,1),(2,2,2)]\n",
    "#orderslist=[]\n",
    "#rscorelist=[]\n",
    "for i in orders:\n",
    "    #orderslist.append(i)\n",
    "    from statsmodels.tsa.arima.model import ARIMA\n",
    "    model = ARIMA(data1, order=i)\n",
    "    model_fit = model.fit()\n",
    "    # make prediction\n",
    "    y_pred= model_fit.predict(0, len(data1)-1)\n",
    "    #print(y_pred)\n",
    "    from stockFunctions import rmsemape\n",
    "    rmsemape(data1,y_pred)\n",
    "    "
   ]
  },
  {
   "cell_type": "code",
   "execution_count": 16,
   "id": "3ea5fce6",
   "metadata": {},
   "outputs": [
    {
     "data": {
      "text/plain": [
       "Index(['Time', 'Char E'], dtype='object')"
      ]
     },
     "execution_count": 16,
     "metadata": {},
     "output_type": "execute_result"
    }
   ],
   "source": [
    "df.columns"
   ]
  },
  {
   "cell_type": "code",
   "execution_count": 17,
   "id": "622a9413",
   "metadata": {},
   "outputs": [
    {
     "data": {
      "image/png": "[encoded data removed]",
      "text/plain": [
       "<Figure size 1000x500 with 1 Axes>"
      ]
     },
     "metadata": {},
     "output_type": "display_data"
    }
   ],
   "source": [
    "from stockFunctions import graph\n",
    "graph(data1,y_pred,\"Actual\",\"Predicted\",\"Quality data\",\"Time\",\"Char E\")"
   ]
  },
  {
   "cell_type": "code",
   "execution_count": 18,
   "id": "6dccfa6d",
   "metadata": {},
   "outputs": [
    {
     "data": {
      "text/plain": [
       "5644"
      ]
     },
     "execution_count": 18,
     "metadata": {},
     "output_type": "execute_result"
    }
   ],
   "source": [
    "len(data1)"
   ]
  },
  {
   "cell_type": "code",
   "execution_count": 19,
   "id": "b85256ab",
   "metadata": {},
   "outputs": [],
   "source": [
    "from stockFunctions import conversionSingle\n",
    "aTestNormTable=conversionSingle(data1,[\"Char E\"])\n",
    "actual_stock_price_test_ori=Ms.inverse_transform(aTestNormTable)\n",
    "actual_stock_price_test_oriA=conversionSingle(actual_stock_price_test_ori,[\"Char E\"])"
   ]
  },
  {
   "cell_type": "code",
   "execution_count": 20,
   "id": "5333826b",
   "metadata": {},
   "outputs": [],
   "source": [
    "from stockFunctions import conversionSingle\n",
    "pTestNormTable=conversionSingle(y_pred,[\"Char E\"])\n",
    "predicted_stock_price_test_ori=Ms.inverse_transform(pTestNormTable)\n",
    "predicted_stock_price_test_oriP=conversionSingle(predicted_stock_price_test_ori,[\"Char E\"])"
   ]
  },
  {
   "cell_type": "code",
   "execution_count": 21,
   "id": "c548033b",
   "metadata": {},
   "outputs": [
    {
     "data": {
      "image/png": "[encoded data removed]",
      "text/plain": [
       "<Figure size 1000x500 with 1 Axes>"
      ]
     },
     "metadata": {},
     "output_type": "display_data"
    }
   ],
   "source": [
    "from stockFunctions import graph\n",
    "graph(actual_stock_price_test_oriA,predicted_stock_price_test_oriP,\"Actual\",\"Predicted\",\"Quality data\",\"Time\",\"Char E\")"
   ]
  },
  {
   "cell_type": "code",
   "execution_count": 22,
   "id": "624f4cef",
   "metadata": {},
   "outputs": [
    {
     "name": "stdout",
     "output_type": "stream",
     "text": [
      "RMSE-Testset: 19.531375817137558\n",
      "maPe-Testset: 0.6848890406953195\n"
     ]
    }
   ],
   "source": [
    "from stockFunctions import rmsemape\n",
    "rmsemape(actual_stock_price_test_oriA,predicted_stock_price_test_oriP)"
   ]
  },
  {
   "cell_type": "code",
   "execution_count": 23,
   "id": "4c939f43",
   "metadata": {},
   "outputs": [],
   "source": [
    "forecast=model_fit.predict(len(data1), len(data1)+10)"
   ]
  },
  {
   "cell_type": "code",
   "execution_count": 24,
   "id": "cd463811",
   "metadata": {},
   "outputs": [
    {
     "data": {
      "text/plain": [
       "array([0.24498992, 0.24530997, 0.24940429, 0.24963081, 0.24976522,\n",
       "       0.24976018, 0.24974391, 0.24972215, 0.24969969, 0.24967699,\n",
       "       0.24965426])"
      ]
     },
     "execution_count": 24,
     "metadata": {},
     "output_type": "execute_result"
    }
   ],
   "source": [
    "forecast"
   ]
  },
  {
   "cell_type": "code",
   "execution_count": 25,
   "id": "8f4b1d4f",
   "metadata": {},
   "outputs": [],
   "source": [
    "from stockFunctions import conversionSingle\n",
    "fTestNormTable=conversionSingle(forecast,[\"CharEforecast\"])\n",
    "forecast_stock_price_test_ori=Ms.inverse_transform(fTestNormTable)\n",
    "forecast_stock_price_test_oriF=conversionSingle(forecast_stock_price_test_ori,[\"CharEforecast\"])"
   ]
  },
  {
   "cell_type": "code",
   "execution_count": 26,
   "id": "9cd43e06",
   "metadata": {},
   "outputs": [],
   "source": [
    "forecast_stock_price_test_oriF.to_csv(\"Closets.csv\",index=False)"
   ]
  },
  {
   "cell_type": "code",
   "execution_count": 27,
   "id": "52b69d4f",
   "metadata": {},
   "outputs": [
    {
     "data": {
      "text/html": [
       "<div>\n",
       "<style scoped>\n",
       "    .dataframe tbody tr th:only-of-type {\n",
       "        vertical-align: middle;\n",
       "    }\n",
       "\n",
       "    .dataframe tbody tr th {\n",
       "        vertical-align: top;\n",
       "    }\n",
       "\n",
       "    .dataframe thead th {\n",
       "        text-align: right;\n",
       "    }\n",
       "</style>\n",
       "<table border=\"1\" class=\"dataframe\">\n",
       "  <thead>\n",
       "    <tr style=\"text-align: right;\">\n",
       "      <th></th>\n",
       "      <th>CharEforecast</th>\n",
       "    </tr>\n",
       "  </thead>\n",
       "  <tbody>\n",
       "    <tr>\n",
       "      <th>0</th>\n",
       "      <td>33.82865</td>\n",
       "    </tr>\n",
       "    <tr>\n",
       "      <th>1</th>\n",
       "      <td>33.871536</td>\n",
       "    </tr>\n",
       "    <tr>\n",
       "      <th>2</th>\n",
       "      <td>34.420175</td>\n",
       "    </tr>\n",
       "    <tr>\n",
       "      <th>3</th>\n",
       "      <td>34.450529</td>\n",
       "    </tr>\n",
       "    <tr>\n",
       "      <th>4</th>\n",
       "      <td>34.468539</td>\n",
       "    </tr>\n",
       "    <tr>\n",
       "      <th>5</th>\n",
       "      <td>34.467864</td>\n",
       "    </tr>\n",
       "    <tr>\n",
       "      <th>6</th>\n",
       "      <td>34.465684</td>\n",
       "    </tr>\n",
       "    <tr>\n",
       "      <th>7</th>\n",
       "      <td>34.462768</td>\n",
       "    </tr>\n",
       "    <tr>\n",
       "      <th>8</th>\n",
       "      <td>34.459758</td>\n",
       "    </tr>\n",
       "    <tr>\n",
       "      <th>9</th>\n",
       "      <td>34.456717</td>\n",
       "    </tr>\n",
       "    <tr>\n",
       "      <th>10</th>\n",
       "      <td>34.453671</td>\n",
       "    </tr>\n",
       "  </tbody>\n",
       "</table>\n",
       "</div>"
      ],
      "text/plain": [
       "   CharEforecast\n",
       "0       33.82865\n",
       "1      33.871536\n",
       "2      34.420175\n",
       "3      34.450529\n",
       "4      34.468539\n",
       "5      34.467864\n",
       "6      34.465684\n",
       "7      34.462768\n",
       "8      34.459758\n",
       "9      34.456717\n",
       "10     34.453671"
      ]
     },
     "execution_count": 27,
     "metadata": {},
     "output_type": "execute_result"
    }
   ],
   "source": [
    "forecast_stock_price_test_oriF"
   ]
  },
  {
   "cell_type": "code",
   "execution_count": null,
   "id": "bdf37ee5",
   "metadata": {},
   "outputs": [],
   "source": []
  },
  {
   "cell_type": "code",
   "execution_count": null,
   "id": "fa253126",
   "metadata": {},
   "outputs": [],
   "source": []
  },
  {
   "cell_type": "code",
   "execution_count": null,
   "id": "714526e8",
   "metadata": {},
   "outputs": [],
   "source": []
  }
 ],
 "metadata": {
  "kernelspec": {
   "display_name": "Python 3 (ipykernel)",
   "language": "python",
   "name": "python3"
  },
  "language_info": {
   "codemirror_mode": {
    "name": "ipython",
    "version": 3
   },
   "file_extension": ".py",
   "mimetype": "text/x-python",
   "name": "python",
   "nbconvert_exporter": "python",
   "pygments_lexer": "ipython3",
   "version": "3.11.3"
  }
 },
 "nbformat": 4,
 "nbformat_minor": 5
}
